{
 "cells": [
  {
   "cell_type": "code",
   "execution_count": null,
   "metadata": {},
   "outputs": [],
   "source": [
    "import matplotlib.pyplot as plt\n",
    "\n",
    "import numpy as np\n",
    "from numpy.linalg import norm \n",
    "\n",
    "from method_functions import GradientDescent, NewtonDescent, LazyNewtonDescent, BFGSNewtonDescent\n",
    "from functions import Rosenbrock, RosenbrockH, RosenbrockJ, Bowl, BowlJ, BowlH, Himmelblau, HimmelblauJ, HimmelblauH, Bohachevsky, BohachevskyJ, BohachevskyH\n",
    "from plottingFunctions import PlotHimmelblau\n",
    "\n",
    "# RESOURCES\n",
    "# https://people.duke.edu/~ccc14/sta-663-2018/notebooks/S09G_Gradient_Descent_Optimization.html "
   ]
  },
  {
   "cell_type": "code",
   "execution_count": null,
   "metadata": {},
   "outputs": [],
   "source": [
    "def CholeskeyFactorization():\n",
    "    a = 1\n",
    "\n",
    "\n",
    "\n",
    "    return a"
   ]
  }
 ],
 "metadata": {
  "kernelspec": {
   "display_name": "Python 3",
   "language": "python",
   "name": "python3"
  },
  "language_info": {
   "name": "python",
   "version": "3.12.3"
  }
 },
 "nbformat": 4,
 "nbformat_minor": 2
}
