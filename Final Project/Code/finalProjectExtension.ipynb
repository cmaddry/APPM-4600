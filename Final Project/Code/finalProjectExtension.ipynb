{
 "cells": [
  {
   "cell_type": "code",
   "execution_count": 4,
   "metadata": {},
   "outputs": [],
   "source": [
    "import matplotlib.pyplot as plt\n",
    "\n",
    "import numpy as np\n",
    "from numpy.linalg import norm \n",
    "\n",
    "from method_functions import GradientDescent, NewtonDescent, LazyNewtonDescent, BFGSNewtonDescent\n",
    "from functions import Rosenbrock, RosenbrockH, RosenbrockJ, Bowl, BowlJ, BowlH, Himmelblau, HimmelblauJ, HimmelblauH, Bohachevsky, BohachevskyJ, BohachevskyH\n",
    "from plottingFunctions import PlotHimmelblau\n",
    "\n",
    "# RESOURCES\n",
    "# https://people.duke.edu/~ccc14/sta-663-2018/notebooks/S09G_Gradient_Descent_Optimization.html "
   ]
  },
  {
   "cell_type": "code",
   "execution_count": null,
   "metadata": {},
   "outputs": [
    {
     "data": {
      "text/plain": [
       "(array([[   1.,    0.],\n",
       "        [-200.,    1.]]),\n",
       " array([[ 2.00e+00,  0.00e+00],\n",
       "        [ 0.00e+00, -7.98e+04]]))"
      ]
     },
     "execution_count": 43,
     "metadata": {},
     "output_type": "execute_result"
    }
   ],
   "source": [
    "def CholeskeyFactorization(H):\n",
    "    n = 2\n",
    "    \n",
    "    L = np.eye(n)\n",
    "    D = np.zeros(n)\n",
    "    \n",
    "    # Cholesky factorization\n",
    "    for j in range(n):\n",
    "        # Compute D[j, j]\n",
    "        D[j] = H[j, j] - np.dot(L[j, :j]**2, D[:j])\n",
    "        \n",
    "        # Compute L[i, j] for i > j\n",
    "        for i in range(j + 1, n):\n",
    "            L[i, j] = (H[i, j] - np.dot(L[i, :j], L[j, :j] * D[:j])) / D[j]\n",
    "    \n",
    "    return L, np.diag(D)\n",
    "\n",
    "CholeskeyFactorization(RosenbrockH([1,3]))\n"
   ]
  },
  {
   "cell_type": "code",
   "execution_count": 34,
   "metadata": {},
   "outputs": [
    {
     "name": "stdout",
     "output_type": "stream",
     "text": [
      "1\n"
     ]
    }
   ],
   "source": [
    "CholeskeyFactorization(RosenbrockH([1,3]))\n",
    "# RosenbrockH.dim"
   ]
  }
 ],
 "metadata": {
  "kernelspec": {
   "display_name": "Python 3",
   "language": "python",
   "name": "python3"
  },
  "language_info": {
   "codemirror_mode": {
    "name": "ipython",
    "version": 3
   },
   "file_extension": ".py",
   "mimetype": "text/x-python",
   "name": "python",
   "nbconvert_exporter": "python",
   "pygments_lexer": "ipython3",
   "version": "3.12.3"
  }
 },
 "nbformat": 4,
 "nbformat_minor": 2
}
