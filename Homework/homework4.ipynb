{
 "cells": [
  {
   "cell_type": "code",
   "execution_count": 16,
   "metadata": {},
   "outputs": [],
   "source": [
    "import matplotlib.pyplot as plt\n",
    "import numpy as np\n",
    "import math\n",
    "import scipy"
   ]
  },
  {
   "cell_type": "code",
   "execution_count": 17,
   "metadata": {},
   "outputs": [],
   "source": [
    "# define routines\n",
    "def bisection(f,a,b,tol):\n",
    "    \n",
    "#    Inputs:\n",
    "#     f,a,b       - function and endpoints of initial interval\n",
    "#      tol  - bisection stops when interval length < tol\n",
    "\n",
    "#    Returns:\n",
    "#      astar - approximation of root\n",
    "#      ier   - error message\n",
    "#            - ier = 1 => Failed\n",
    "#            - ier = 0 == success\n",
    "\n",
    "#     first verify there is a root we can find in the interval \n",
    "\n",
    "    fa = f(a)\n",
    "    fb = f(b);\n",
    "    if (fa*fb>0):\n",
    "       ier = 1\n",
    "       astar = a\n",
    "       return [astar, ier]\n",
    "\n",
    "#   verify end points are not a root \n",
    "    if (fa == 0):\n",
    "      astar = a\n",
    "      ier =0\n",
    "      return [astar, ier]\n",
    "\n",
    "    if (fb ==0):\n",
    "      astar = b\n",
    "      ier = 0\n",
    "      return [astar, ier]\n",
    "\n",
    "    count = 0\n",
    "    d = 0.5*(a+b)\n",
    "    while (abs(d-a)> tol):\n",
    "      fd = f(d)\n",
    "      if (fd ==0):\n",
    "        astar = d\n",
    "        ier = 0\n",
    "        return [astar, ier]\n",
    "      if (fa*fd<0):\n",
    "         b = d\n",
    "      else: \n",
    "        a = d\n",
    "        fa = fd\n",
    "      d = 0.5*(a+b)\n",
    "      count = count +1\n",
    "#      print('abs(d-a) = ', abs(d-a))\n",
    "      \n",
    "    astar = d\n",
    "    ier = 0\n",
    "    return [astar, ier]"
   ]
  },
  {
   "cell_type": "code",
   "execution_count": 18,
   "metadata": {},
   "outputs": [],
   "source": [
    "def newton(f,fp,p0,tol,Nmax):\n",
    "  \"\"\"\n",
    "  Newton iteration.\n",
    "  \n",
    "  Inputs:\n",
    "    f,fp - function and derivative\n",
    "    p0   - initial guess for root\n",
    "    tol  - iteration stops when p_n,p_{n+1} are within tol\n",
    "    Nmax - max number of iterations\n",
    "  Returns:\n",
    "    p     - an array of the iterates\n",
    "    pstar - the last iterate\n",
    "    info  - success message\n",
    "          - 0 if we met tol\n",
    "          - 1 if we hit Nmax iterations (fail)\n",
    "     \n",
    "  \"\"\"\n",
    "  p = np.zeros(Nmax+1);\n",
    "  p[0] = p0\n",
    "  for it in range(Nmax):\n",
    "      p1 = p0-f(p0)/fp(p0)\n",
    "      p[it+1] = p1\n",
    "      if (abs(p1-p0) < tol):\n",
    "          pstar = p1\n",
    "          info = 0\n",
    "          return [p,pstar,info,it]\n",
    "      p0 = p1\n",
    "  pstar = p1\n",
    "  info = 1\n",
    "  return [p,pstar,info,it]"
   ]
  },
  {
   "cell_type": "code",
   "execution_count": 19,
   "metadata": {},
   "outputs": [],
   "source": [
    "def newtonFromClass(f,fp,p0,tol,Nmax):\n",
    "  \"\"\"\n",
    "  Newton iteration.\n",
    "  \n",
    "  Inputs:\n",
    "    f,fp - function and derivative\n",
    "    p0   - initial guess for root\n",
    "    tol  - iteration stops when p_n,p_{n+1} are within tol\n",
    "    Nmax - max number of iterations\n",
    "  Returns:\n",
    "    p     - an array of the iterates\n",
    "    pstar - the last iterate\n",
    "    info  - success message\n",
    "          - 0 if we met tol\n",
    "          - 1 if we hit Nmax iterations (fail)\n",
    "     \n",
    "  \"\"\"\n",
    "  p = np.zeros(Nmax+1);\n",
    "  p[0] = p0;\n",
    "\n",
    "  derivativeOnce = fp(p0)\n",
    "\n",
    "  for it in range(Nmax):\n",
    "      p1 = p0-f(p0)/derivativeOnce\n",
    "      p[it+1] = p1\n",
    "      if (abs(p1-p0) < tol):\n",
    "          pstar = p1\n",
    "          info = 0\n",
    "          return [p,pstar,info,it]\n",
    "      p0 = p1\n",
    "  pstar = p1\n",
    "  info = 1\n",
    "  return [p,pstar,info,it]"
   ]
  },
  {
   "cell_type": "code",
   "execution_count": 20,
   "metadata": {},
   "outputs": [],
   "source": [
    "def newtonFrom2(f,fp,m,p0,tol,Nmax):\n",
    "  \"\"\"\n",
    "  Newton iteration.\n",
    "  \n",
    "  Inputs:\n",
    "    f,fp - function and derivative\n",
    "    m    - functions multiplicity\n",
    "    p0   - initial guess for root\n",
    "    tol  - iteration stops when p_n,p_{n+1} are within tol\n",
    "    Nmax - max number of iterations\n",
    "  Returns:\n",
    "    p     - an array of the iterates\n",
    "    pstar - the last iterate\n",
    "    info  - success message\n",
    "          - 0 if we met tol\n",
    "          - 1 if we hit Nmax iterations (fail)\n",
    "     \n",
    "  \"\"\"\n",
    "  p = np.zeros(Nmax+1);\n",
    "  p[0] = p0\n",
    "  for it in range(Nmax):\n",
    "      p1 = p0-m*f(p0)/fp(p0)\n",
    "      p[it+1] = p1\n",
    "      if (abs(p1-p0) < tol):\n",
    "          pstar = p1\n",
    "          info = 0\n",
    "          return [p,pstar,info,it]\n",
    "      p0 = p1\n",
    "  pstar = p1\n",
    "  info = 1\n",
    "  return [p,pstar,info,it]"
   ]
  },
  {
   "cell_type": "markdown",
   "metadata": {},
   "source": [
    "### Question 1"
   ]
  },
  {
   "cell_type": "markdown",
   "metadata": {},
   "source": [
    "#### a)"
   ]
  },
  {
   "cell_type": "code",
   "execution_count": 29,
   "metadata": {},
   "outputs": [],
   "source": [
    "def f(x):\n",
    "    return 35*scipy.special.erf(x/(2*np.sqrt(5184000*0.138e-6))) - 15\n",
    "\n",
    "def df(x):\n",
    "    return 23.3465*np.e**(-0.349459*x**2)"
   ]
  },
  {
   "cell_type": "code",
   "execution_count": 32,
   "metadata": {},
   "outputs": [
    {
     "data": {
      "text/plain": [
       "Text(0, 0.5, '$f(x)$')"
      ]
     },
     "execution_count": 32,
     "metadata": {},
     "output_type": "execute_result"
    },
    {
     "data": {
      "image/png": "[encoded data removed]",
      "text/plain": [
       "<Figure size 640x480 with 1 Axes>"
      ]
     },
     "metadata": {},
     "output_type": "display_data"
    }
   ],
   "source": [
    "a = 0;\n",
    "b = 9;\n",
    "tol = 1e-120\n",
    "\n",
    "[x_bar, er] = bisection(f, a, b, tol)\n",
    "x = np.linspace(0, x_bar, 100)\n",
    "\n",
    "plt.plot(x, f(x), c='#16dc46')\n",
    "plt.grid(True)\n",
    "plt.title(r'$f$ on $[0,x_{bar}$]')\n",
    "plt.xlabel(r'$x$')\n",
    "plt.ylabel(r'$f(x)$')"
   ]
  },
  {
   "cell_type": "markdown",
   "metadata": {},
   "source": [
    "#### b)"
   ]
  },
  {
   "cell_type": "code",
   "execution_count": 23,
   "metadata": {},
   "outputs": [
    {
     "name": "stdout",
     "output_type": "stream",
     "text": [
      "An approximate dpeth using Bisection Method is: 0.6769618544821583 meters\n"
     ]
    }
   ],
   "source": [
    "a = 0;\n",
    "b = 9;\n",
    "tol = 1e-12\n",
    "\n",
    "[xbar, er] = bisection(f, a, b, tol)\n",
    "print('An approximate dpeth using Bisection Method is:', xbar,'meters')"
   ]
  },
  {
   "cell_type": "markdown",
   "metadata": {},
   "source": [
    "#### c)"
   ]
  },
  {
   "cell_type": "code",
   "execution_count": 24,
   "metadata": {},
   "outputs": [
    {
     "name": "stdout",
     "output_type": "stream",
     "text": [
      "Newton's with x0 = 0.01: 0.6769618544819365 with 4 iterations\n",
      "Newton's with $x0 = x_{bar}:$ 0.6769618544819365 with 0 iterations\n"
     ]
    }
   ],
   "source": [
    "x0 = 0.01;\n",
    "nMax = 1000;\n",
    "\n",
    "[p,pstar,info,it] = newton(f, df, x0, tol, nMax)\n",
    "print(\"Newton's with x0 = 0.01:\", pstar, \"with\", it, 'iterations')\n",
    "\n",
    "x0 = x_bar;\n",
    "\n",
    "[p,pstar,info,it] = newton(f, df, x0, tol, nMax)\n",
    "print(r\"Newton's with $x0 = x_{bar}:$\", pstar, \"with\", it, 'iterations')"
   ]
  },
  {
   "cell_type": "markdown",
   "metadata": {},
   "source": [
    "### Question 4"
   ]
  },
  {
   "cell_type": "code",
   "execution_count": 25,
   "metadata": {},
   "outputs": [
    {
     "name": "stdout",
     "output_type": "stream",
     "text": [
      "For a=1, b=5, tolerance = 10^-6, max # of iterations = 10,000\n",
      "(i) Newton's method: 0.9100047522982512 with 26 iterations\n",
      "(ii) the modified Newton's method from class: 0.9056209931486026 with 2205 iterations\n",
      "(iii) the modified Newton's method in Problem 2: 0.9100086821743582 with 3 iterations\n"
     ]
    }
   ],
   "source": [
    "def f(x):\n",
    "    return np.e**(3*x) - 27*x**6 + 27*(x**4)*(np.e**x) - 9*(x**2)*np.e**(2*x)\n",
    "def df(x):\n",
    "    return 3*np.e**(3*x) - 162*x**5 + 27*(x**4)*(np.e**x) + 108*(x**3)*np.e**x - 18*(x)*np.e**(2*x) - 18*(x**2)*np.e**(2*x)\n",
    "\n",
    "a = 3;\n",
    "b = 5;\n",
    "tol = 1e-6\n",
    "nMax = 10000\n",
    "\n",
    "print('For a=1, b=5, tolerance = 10^-6, max # of iterations = 10,000')\n",
    "[p,pstar,info,it] = newton(f, df, x0, tol, nMax)\n",
    "print(\"(i) Newton's method:\", pstar, \"with\", it, 'iterations')\n",
    "\n",
    "[p,pstar,info,it] = newtonFromClass(f, df, x0, tol, nMax)\n",
    "print(\"(ii) the modified Newton's method from class:\", pstar, \"with\", it, 'iterations')\n",
    "\n",
    "[p,pstar,info,it] = newtonFrom2(f, df, 3, x0, tol, nMax)\n",
    "print(\"(iii) the modified Newton's method in Problem 2:\", pstar, \"with\", it, 'iterations')"
   ]
  },
  {
   "cell_type": "markdown",
   "metadata": {},
   "source": [
    "### Question 5"
   ]
  },
  {
   "cell_type": "markdown",
   "metadata": {},
   "source": [
    "#### a)"
   ]
  },
  {
   "cell_type": "code",
   "execution_count": 26,
   "metadata": {},
   "outputs": [
    {
     "name": "stdout",
     "output_type": "stream",
     "text": [
      " [   ITERATION       ERROR     ]\n",
      " -------------------------------\n",
      "[[1.00000000e+00 8.65275862e-01]\n",
      " [2.00000000e+00 5.45904134e-01]\n",
      " [3.00000000e+00 2.96014850e-01]\n",
      " [4.00000000e+00 1.20246818e-01]\n",
      " [5.00000000e+00 2.68142944e-02]\n",
      " [6.00000000e+00 1.62913577e-03]\n",
      " [7.00000000e+00 6.38994211e-06]\n",
      " [8.00000000e+00 9.87017135e-11]]\n"
     ]
    }
   ],
   "source": [
    "def f(x):\n",
    "    return x**6 - x - 1\n",
    "def df(x):\n",
    "    return 6*x**5 - 1\n",
    "\n",
    "x0 = 2;\n",
    "x1 = 1;\n",
    "tol = 1e-13\n",
    "\n",
    "[p,pstar,info,it] = newton(f, df, x0, tol, nMax)\n",
    "\n",
    "iterations = np.arange(1,9).reshape(1,8)\n",
    "error = np.abs(p[:it].reshape(1,8) - pstar)\n",
    "\n",
    "errorTable = np.concatenate((iterations, error), axis=0).transpose()\n",
    "print(' [   ITERATION       ERROR     ]')\n",
    "print(' -------------------------------')\n",
    "print(errorTable)"
   ]
  },
  {
   "cell_type": "markdown",
   "metadata": {},
   "source": [
    "#### b)"
   ]
  },
  {
   "cell_type": "code",
   "execution_count": 27,
   "metadata": {},
   "outputs": [
    {
     "data": {
      "text/plain": [
       "Text(0.5, 1.0, '$|x_{k+1} -\\\\alpha|$ vs. $|x_k -\\\\alpha|$')"
      ]
     },
     "execution_count": 27,
     "metadata": {},
     "output_type": "execute_result"
    },
    {
     "data": {
      "image/png": "[encoded data removed]",
      "text/plain": [
       "<Figure size 640x480 with 1 Axes>"
      ]
     },
     "metadata": {},
     "output_type": "display_data"
    }
   ],
   "source": [
    "x = error[0,0:it - 1]\n",
    "y = error[0, 1:it]\n",
    "\n",
    "plt.loglog(x, y, c='#dc16c2')\n",
    "plt.xlabel(r'$|x_k -\\alpha|$')\n",
    "plt.ylabel(r'$|x_{k+1} -\\alpha|$')\n",
    "plt.title(r'$|x_{k+1} -\\alpha|$ vs. $|x_k -\\alpha|$')"
   ]
  },
  {
   "cell_type": "code",
   "execution_count": 28,
   "metadata": {},
   "outputs": [
    {
     "name": "stderr",
     "output_type": "stream",
     "text": [
      "C:\\Users\\maddr\\AppData\\Local\\Temp\\ipykernel_7324\\1662062496.py:10: RuntimeWarning: invalid value encountered in sqrt\n",
      "  n = np.sqrt(1 - (omega_p**2 / (omega_0**2 * (x**2))))\n"
     ]
    },
    {
     "data": {
      "image/png": "[encoded data removed]",
      "text/plain": [
       "<Figure size 1000x600 with 1 Axes>"
      ]
     },
     "metadata": {},
     "output_type": "display_data"
    }
   ],
   "source": [
    "# Parameters\n",
    "c = 3e10  # Speed of light in cm/s\n",
    "omega_p = 1.0  # Example plasma frequency (in rad/s)\n",
    "omega_0 = 2.0  # Example resonant frequency (in rad/s)\n",
    "\n",
    "# Frequency range for ω/ω_0\n",
    "x = np.linspace(0.1, 1.5, 1000)  # From 0.1 to 1.5\n",
    "\n",
    "# Calculate the index of refraction\n",
    "n = np.sqrt(1 - (omega_p**2 / (omega_0**2 * (x**2))))\n",
    "\n",
    "# Calculate the phase speed\n",
    "v_p = c / n\n",
    "\n",
    "# Plotting\n",
    "plt.figure(figsize=(10, 6))\n",
    "plt.plot(x, v_p)\n",
    "plt.axhline(c, color='red', linestyle='--', label='Speed of Light in Vacuum')\n",
    "plt.legend()\n",
    "plt.grid()\n",
    "plt.ylim(0, 4e10)  # Adjust as necessary to visualize\n",
    "plt.xlim(0, 1.5)  # Adjust as necessary\n",
    "plt.show()\n"
   ]
  },
  {
   "cell_type": "code",
   "execution_count": null,
   "metadata": {},
   "outputs": [],
   "source": []
  }
 ],
 "metadata": {
  "kernelspec": {
   "display_name": "Python 3",
   "language": "python",
   "name": "python3"
  },
  "language_info": {
   "codemirror_mode": {
    "name": "ipython",
    "version": 3
   },
   "file_extension": ".py",
   "mimetype": "text/x-python",
   "name": "python",
   "nbconvert_exporter": "python",
   "pygments_lexer": "ipython3",
   "version": "3.12.3"
  }
 },
 "nbformat": 4,
 "nbformat_minor": 2
}
