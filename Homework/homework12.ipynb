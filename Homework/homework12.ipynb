{
 "cells": [
  {
   "cell_type": "code",
   "execution_count": 40,
   "metadata": {},
   "outputs": [],
   "source": [
    "import numpy as np\n",
    "from numpy.linalg import norm"
   ]
  },
  {
   "cell_type": "code",
   "execution_count": 41,
   "metadata": {},
   "outputs": [],
   "source": [
    "def buildHilbert(n):\n",
    "    A = np.zeros([n,n])\n",
    "\n",
    "    for i in range(n):\n",
    "        for j in range(n):\n",
    "            A[i,j] = 1/(i + 1 + j + 1 - 1)\n",
    "    \n",
    "    return A\n",
    "\n",
    "def findInfNorm(x):\n",
    "    xp = np.linalg.norm(x, ord=np.inf) # what\n",
    "\n",
    "\n",
    "    for i in range(len(x)):\n",
    "        if x[i] == xp:\n",
    "            p = i\n",
    "            return xp, p\n",
    "\n",
    "    return xp, p\n",
    "\n",
    "def powerMethod(n, A, x, tol, maxNum):\n",
    "    k = 1\n",
    "\n",
    "    xp, p = findInfNorm(x)\n",
    "    x = x/xp\n",
    "\n",
    "    while k <= maxNum:\n",
    "\n",
    "        y = A.dot(x)\n",
    "        mu = y[p]\n",
    "\n",
    "        yp, p = findInfNorm(y)\n",
    "        err = norm(x - y/norm(y))\n",
    "\n",
    "        if yp == 0:\n",
    "            print(\"Eigenvector\", x)\n",
    "            print(\"A has the eignvalue 0, select a new vector x and restart\")\n",
    "\n",
    "            return\n",
    "        \n",
    "        if err == np.linalg.norm(x - (y/yp), ord=np.inf):\n",
    "            x = y/yp\n",
    "        \n",
    "        if err < tol:\n",
    "            print(\"The procedure was successful.\")\n",
    "            return mu, x\n",
    "        \n",
    "        k += 1\n",
    "\n",
    "    print(\"The max number of iterations exceeded. Not successful.\")\n",
    "\n",
    "\n",
    "    return"
   ]
  },
  {
   "cell_type": "code",
   "execution_count": 59,
   "metadata": {},
   "outputs": [
    {
     "name": "stdout",
     "output_type": "stream",
     "text": [
      "The procedure was successful.\n"
     ]
    },
    {
     "data": {
      "text/plain": [
       "(np.float64(1.4285714285714284),\n",
       " array([1.        , 0.28571429, 0.42857143, 0.57142857]))"
      ]
     },
     "execution_count": 59,
     "metadata": {},
     "output_type": "execute_result"
    }
   ],
   "source": [
    "n = 4\n",
    "\n",
    "A = buildHilbert(n)\n",
    "\n",
    "x = [7,2,3,4]\n",
    "\n",
    "powerMethod(n, A, x, 1e0, 10000)\n",
    "\n",
    "\n"
   ]
  },
  {
   "cell_type": "code",
   "execution_count": null,
   "metadata": {},
   "outputs": [],
   "source": []
  }
 ],
 "metadata": {
  "kernelspec": {
   "display_name": "Python 3",
   "language": "python",
   "name": "python3"
  },
  "language_info": {
   "codemirror_mode": {
    "name": "ipython",
    "version": 3
   },
   "file_extension": ".py",
   "mimetype": "text/x-python",
   "name": "python",
   "nbconvert_exporter": "python",
   "pygments_lexer": "ipython3",
   "version": "3.12.3"
  }
 },
 "nbformat": 4,
 "nbformat_minor": 2
}
