{
 "cells": [
  {
   "cell_type": "code",
   "execution_count": 30,
   "metadata": {},
   "outputs": [],
   "source": [
    "import numpy as np\n",
    "from numpy.linalg import norm, inv, eig"
   ]
  },
  {
   "cell_type": "code",
   "execution_count": null,
   "metadata": {},
   "outputs": [],
   "source": [
    "def buildHilbert(n):\n",
    "    A = np.zeros([n,n])\n",
    "\n",
    "    for i in range(n):\n",
    "        for j in range(n):\n",
    "            A[i,j] = 1/(i + 1 + j + 1 - 1)\n",
    "    \n",
    "    return A\n",
    "\n",
    "def findInfNorm(x):\n",
    "    # print(x)\n",
    "    xp = np.linalg.norm(x, ord=np.inf) # what\n",
    "    p = list(abs(x)).index(xp)\n",
    "\n",
    "    return xp, p\n",
    "\n",
    "\n",
    "def powerMethod(n, A, x, tol, maxNum):\n",
    "    k = 1\n",
    "\n",
    "    xp, p = findInfNorm(x)\n",
    "    x = x/xp\n",
    "\n",
    "    while k <= maxNum:\n",
    "\n",
    "        y = A @ x\n",
    "        yp, p = findInfNorm(y)\n",
    "        mu = y[p]\n",
    "\n",
    "        err = norm(abs(x) - abs(y/yp), ord=np.inf)\n",
    "        x = y/yp\n",
    "\n",
    "        if yp == 0:\n",
    "            print(\"Eigenvector\", x)\n",
    "            print(\"A has the eignvalue 0, select a new vector x and restart\")\n",
    "\n",
    "            return mu, x, k\n",
    "        \n",
    "        if err < tol:\n",
    "            print(\"The procedure was successful.\")\n",
    "            return mu, x, k\n",
    "        \n",
    "        k += 1\n",
    "\n",
    "    print(\"The max number of iterations exceeded. Not successful.\")\n",
    "\n",
    "    return mu, x, k"
   ]
  },
  {
   "cell_type": "markdown",
   "metadata": {},
   "source": [
    "### Question 2"
   ]
  },
  {
   "cell_type": "code",
   "execution_count": 73,
   "metadata": {},
   "outputs": [
    {
     "data": {
      "text/plain": [
       "array([[ 1.        ,  0.        ,  0.        ],\n",
       "       [ 0.        , -4.07980461, -0.97828098],\n",
       "       [ 0.        , -0.97828098,  0.8116003 ]])"
      ]
     },
     "execution_count": 73,
     "metadata": {},
     "output_type": "execute_result"
    }
   ],
   "source": [
    "vec = np.zeros([3,1])\n",
    "vec[1] = (10 + np.sqrt(116))/(np.sqrt(116 + 10*np.sqrt(29)))\n",
    "vec[2] = 4/(np.sqrt(116 + 10*np.sqrt(29)))\n",
    "\n",
    "P = np.eye(3) - 2*np.outer(vec,vec)\n",
    "A = np.array([[12, 10, 4],\n",
    "              [10, 8, -5],\n",
    "              [4, -5, 3]])\n",
    "A2 = P.dot(A)\n",
    "A2 = A2.dot(P)\n",
    "P"
   ]
  },
  {
   "cell_type": "markdown",
   "metadata": {},
   "source": [
    "### Question 3"
   ]
  },
  {
   "cell_type": "code",
   "execution_count": 45,
   "metadata": {},
   "outputs": [
    {
     "name": "stdout",
     "output_type": "stream",
     "text": [
      "The procedure was successful.\n",
      "The dominant eigenvalue is:  1.8600364428330036\n",
      "\t Number of iterations 17\n",
      "The max number of iterations exceeded. Not successful.\n",
      "The smallest eigenvalue is:  6.893362019228282e-18\n",
      "\t Number of iterations 100001\n",
      "Correct minimum eigenvalue using eig:  5.254975932156484e-18\n",
      "The difference in eigenvalues is:  1.6383860870717977e-18\n"
     ]
    }
   ],
   "source": [
    "n = 16\n",
    "\n",
    "tol = 1e-10\n",
    "maxNum = 100000\n",
    "\n",
    "A = buildHilbert(n)\n",
    "Ainv = inv(A)\n",
    "x = np.ones(n)\n",
    "\n",
    "value, vec, its = powerMethod(n, A, x, tol, maxNum)\n",
    "\n",
    "print(\"The dominant eigenvalue is: \", value)\n",
    "print(\"\\t Number of iterations\", its)\n",
    "# print(\"\\t The eigenvector is: \", vec)\n",
    "\n",
    "\n",
    "value, vec, its = powerMethod(n, Ainv, x, tol, maxNum)\n",
    "\n",
    "print(\"The smallest eigenvalue is: \", 1/value)\n",
    "print(\"\\t Number of iterations\", its)\n",
    "# print(\"\\t The eigenvector is: \", vec)\n",
    "\n",
    "values, vectors = eig(A)\n",
    "print(\"Correct minimum eigenvalue using eig: \", abs(np.min(values)))\n",
    "\n",
    "difference = abs(abs(np.min(values)) - 1/value)\n",
    "print(\"The difference in eigenvalues is: \", difference)"
   ]
  },
  {
   "cell_type": "code",
   "execution_count": 33,
   "metadata": {},
   "outputs": [
    {
     "name": "stdout",
     "output_type": "stream",
     "text": [
      "The procedure was successful.\n",
      "The dominant eigenvalue is:  2.0\n",
      "\t Number of iterations 1\n"
     ]
    }
   ],
   "source": [
    "n = 3\n",
    "\n",
    "tol = 1e-10\n",
    "maxNum = 100000\n",
    "\n",
    "A = np.eye(n)\n",
    "x = np.array([0,0,1])\n",
    "\n",
    "A[0,0] = 5\n",
    "A[1,1] = 5\n",
    "A[2,2] = 2\n",
    "\n",
    "\n",
    "value, vec, its = powerMethod(n, A, x, tol, maxNum)\n",
    "\n",
    "print(\"The dominant eigenvalue is: \", value)\n",
    "print(\"\\t Number of iterations\", its)\n",
    "# print(\"\\t The eigenvector is: \", vec)"
   ]
  }
 ],
 "metadata": {
  "kernelspec": {
   "display_name": "Python 3",
   "language": "python",
   "name": "python3"
  },
  "language_info": {
   "codemirror_mode": {
    "name": "ipython",
    "version": 3
   },
   "file_extension": ".py",
   "mimetype": "text/x-python",
   "name": "python",
   "nbconvert_exporter": "python",
   "pygments_lexer": "ipython3",
   "version": "3.12.3"
  }
 },
 "nbformat": 4,
 "nbformat_minor": 2
}
