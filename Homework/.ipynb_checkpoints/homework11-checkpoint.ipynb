{
 "cells": [
  {
   "cell_type": "code",
   "execution_count": 70,
   "metadata": {},
   "outputs": [],
   "source": [
    "import numpy as np\n",
    "import matplotlib.pyplot as plt\n",
    "import scipy.integrate as integrate"
   ]
  },
  {
   "cell_type": "code",
   "execution_count": 155,
   "metadata": {},
   "outputs": [],
   "source": [
    "def eval_composite_trap(M,a,b,f): \n",
    "\n",
    "  h = (b - a)/M # Setting the step size\n",
    "  daArea = 0.5*(f(a) + f(b)) # Computing the terms that don't depend on the index\n",
    "  xEval = [a] # Stores xValues in an array\n",
    "\n",
    "  # Loops through and makes calculations for the other nodes\n",
    "  for i in range(1, M):\n",
    "    xEval = xEval + [a + i * h] # Stores evaluation node\n",
    "    daArea = daArea + f(xEval[i]) # Calculates step\n",
    "\n",
    "  xEval = xEval + [b] # Stores the final node\n",
    "  daArea = h*daArea # Multiplies the calculation by the step size\n",
    "\n",
    "  return daArea,xEval,M\n",
    "\n",
    "def eval_composite_simpsons(M,a,b,f):\n",
    "  # Checks to make sure that M is even\n",
    "  if M % 2 != 0: \n",
    "    raise ValueError(\"NAH BRUH YO NUMBER AINT EVEN\")\n",
    "  \n",
    "  h = (b - a) / M # Setting the step size\n",
    "  daArea = f(a) + f(b) # Computing the terms that don't depend on the index\n",
    "  xEval = [a] # Stores xValues in an array\n",
    "\n",
    "  # Loops through and makes calculations for the other nodes\n",
    "  for i in range(1, M):\n",
    "      xEval = xEval + [a + i * h] # Stores evaluation node\n",
    "      if i % 2 == 0:\n",
    "          daArea = daArea + 2 * f(xEval[i]) # Calculates step for the even terms\n",
    "      else:\n",
    "          daArea = daArea + 4 * f(xEval[i]) # Calculates step for the other terms\n",
    "\n",
    "  xEval = xEval + [b] # Stores the final node\n",
    "  daArea = daArea *  h / 3 # Multiplies the calculation by the step size\n",
    "\n",
    "  return daArea, xEval, M"
   ]
  },
  {
   "cell_type": "code",
   "execution_count": 153,
   "metadata": {},
   "outputs": [
    {
     "name": "stdout",
     "output_type": "stream",
     "text": [
      "Scipy calculation: 2.7468015338900327 Scipy error 1.4334139675000002e-08\n",
      "\tFor composite trapezoidal: n =  497\n",
      "\tFor composite Simpson's: n =  46\n",
      "\n",
      "Scipy calculation: 2.746801533909586 Scipy error 1.0279997850748401e-05\n",
      "\tFor composite trapezoidal: n =  50\n",
      "\tFor composite Simpson's: n =  32\n"
     ]
    }
   ],
   "source": [
    "# Interval\n",
    "a = -5; b = 5;\n",
    "\n",
    "# function we care about\n",
    "f = lambda s: 1/(1 + s**2)\n",
    "\n",
    "# Absolute tolerance for Scipy\n",
    "SciPy_tol = 1e-6\n",
    "\n",
    "areaScipy, absError = integrate.quad(f, a, b, epsabs=SciPy_tol)\n",
    "print(\"Scipy calculation:\", areaScipy, \"Scipy error\", absError)\n",
    "\n",
    "for i in range(1, 1000):\n",
    "\n",
    "    areaCT,_,_ = eval_composite_trap(i, a, b, f)\n",
    "\n",
    "    if abs(areaScipy - areaCT) <= 1e-6:\n",
    "        print(\"\\tFor composite trapezoidal: n = \", i)\n",
    "        break\n",
    "\n",
    "\n",
    "for i in range(1, 1000):\n",
    "\n",
    "    areaCS,_,_ = eval_composite_simpsons(2*i, a, b, f)\n",
    "\n",
    "    if abs(areaScipy - areaCS) <= 1e-6:\n",
    "        print(\"\\tFor composite Simpson's: n = \", 2*i)\n",
    "        break\n",
    "\n",
    "\n",
    "SciPy_tol = 1e-4\n",
    "areaScipy, absError = integrate.quad(f, a, b, epsabs=SciPy_tol)\n",
    "print(\"\\nScipy calculation:\", areaScipy, \"Scipy error\", absError)\n",
    "\n",
    "for i in range(1, 1000):\n",
    "\n",
    "    areaCT,_,_ = eval_composite_trap(i, a, b, f)\n",
    "\n",
    "    if abs(areaScipy - areaCT) <= 1e-4:\n",
    "        print(\"\\tFor composite trapezoidal: n = \", i)\n",
    "        break\n",
    "\n",
    "\n",
    "for i in range(1, 1000):\n",
    "\n",
    "    areaCS,_,_ = eval_composite_simpsons(2*i, a, b, f)\n",
    "\n",
    "    if abs(areaScipy - areaCS) <= 1e-4:\n",
    "        print(\"\\tFor composite Simpson's: n = \", 2*i)\n",
    "        break"
   ]
  },
  {
   "cell_type": "code",
   "execution_count": 154,
   "metadata": {},
   "outputs": [
    {
     "data": {
      "text/plain": [
       "0.014685380697196132"
      ]
     },
     "execution_count": 154,
     "metadata": {},
     "output_type": "execute_result"
    }
   ],
   "source": [
    "f = lambda t: t*np.cos(1/t)\n",
    "\n",
    "a = 1e-100; b = 1;\n",
    "N = 4\n",
    "\n",
    "area,xEval,_ = eval_composite_simpsons(N, a, b, f)\n",
    "area"
   ]
  }
 ],
 "metadata": {
  "kernelspec": {
   "display_name": "Python 3",
   "language": "python",
   "name": "python3"
  },
  "language_info": {
   "codemirror_mode": {
    "name": "ipython",
    "version": 3
   },
   "file_extension": ".py",
   "mimetype": "text/x-python",
   "name": "python",
   "nbconvert_exporter": "python",
   "pygments_lexer": "ipython3",
   "version": "3.12.3"
  }
 },
 "nbformat": 4,
 "nbformat_minor": 2
}
