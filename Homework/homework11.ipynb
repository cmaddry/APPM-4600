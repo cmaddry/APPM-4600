{
 "cells": [
  {
   "cell_type": "code",
   "execution_count": 1,
   "metadata": {},
   "outputs": [],
   "source": [
    "import numpy as np\n",
    "import matplotlib.pyplot as plt\n",
    "import scipy.integrate as integrate"
   ]
  },
  {
   "cell_type": "code",
   "execution_count": 2,
   "metadata": {},
   "outputs": [],
   "source": [
    "def eval_composite_trap(M,a,b,f): \n",
    "\n",
    "  h = (b - a)/M # Setting the step size\n",
    "  daArea = 0.5*(f(a) + f(b)) # Computing the terms that don't depend on the index\n",
    "  xEval = [a] # Stores xValues in an array\n",
    "\n",
    "  # Loops through and makes calculations for the other nodes\n",
    "  for i in range(1, M):\n",
    "    xEval = xEval + [a + i * h] # Stores evaluation node\n",
    "    daArea = daArea + f(xEval[i]) # Calculates step\n",
    "\n",
    "  xEval = xEval + [b] # Stores the final node\n",
    "  daArea = h*daArea # Multiplies the calculation by the step size\n",
    "\n",
    "  return daArea,xEval,M\n",
    "\n",
    "def eval_composite_simpsons(M,a,b,f):\n",
    "  # Checks to make sure that M is even\n",
    "  if M % 2 != 0: \n",
    "    raise ValueError(\"NAH BRUH YO NUMBER AINT EVEN\")\n",
    "  \n",
    "  h = (b - a) / M # Setting the step size\n",
    "  daArea = f(a) + f(b) # Computing the terms that don't depend on the index\n",
    "  xEval = [a] # Stores xValues in an array\n",
    "\n",
    "  # Loops through and makes calculations for the other nodes\n",
    "  for i in range(1, M):\n",
    "      xEval = xEval + [a + i * h] # Stores evaluation node\n",
    "      if i % 2 == 0:\n",
    "          daArea = daArea + 2 * f(xEval[i]) # Calculates step for the even terms\n",
    "      else:\n",
    "          daArea = daArea + 4 * f(xEval[i]) # Calculates step for the other terms\n",
    "\n",
    "  xEval = xEval + [b] # Stores the final node\n",
    "  daArea = daArea *  h / 3 # Multiplies the calculation by the step size\n",
    "\n",
    "  return daArea, xEval, M\n",
    "\n",
    "# Interval\n",
    "a = -5; b = 5;\n",
    "\n",
    "# function we care about\n",
    "f = lambda s: 1/(1 + s**2)\n"
   ]
  },
  {
   "cell_type": "code",
   "execution_count": null,
   "metadata": {},
   "outputs": [
    {
     "name": "stdout",
     "output_type": "stream",
     "text": [
      "For composite trapezoidal: area =  2.7468013859623697 with n =  1291\n",
      "For composite Simpson's: area =  2.7468015287482044 with n =  108\n",
      "For composite Scipy's quad: area =  2.7468015338900327 with n =  4\n"
     ]
    }
   ],
   "source": [
    "n = 1291\n",
    "areaCT,_,_ = eval_composite_trap(n, a, b, f)\n",
    "print(\"For composite trapezoidal: area = \", areaCT, \"with n = \", n)\n",
    "\n",
    "n = 108\n",
    "areaCS,_,_ = eval_composite_simpsons(n, a, b, f)\n",
    "print(\"For composite Simpson's: area = \", areaCS, \"with n = \", n)\n",
    "\n",
    "areaScipy, error, others = integrate.quad(f, a, b, limit=2000, full_output=1)\n",
    "nFromScipy = list(others.values())[1]\n",
    "print(\"For composite Scipy's quad: area = \", areaScipy, \"gave n = \", nFromScipy)"
   ]
  },
  {
   "cell_type": "code",
   "execution_count": 44,
   "metadata": {},
   "outputs": [
    {
     "name": "stdout",
     "output_type": "stream",
     "text": [
      "\n",
      "Scipy calculation: 2.7468015338900327 Scipy error 1.4334139675000002e-08\n",
      "\tFor composite trapezoidal: area =  2.7468005357579206  n =  497 error: 9.981321120733355e-07\n",
      "\tFor composite Simpson's: area =  2.7468024873606915 n =  46 error: 9.981321120733355e-07\n",
      "\n",
      "Scipy calculation: 2.746801533909586 Scipy error 1.0279997850748401e-05\n",
      "\tFor composite trapezoidal: area 2.746702942544288 n =  50 error: 9.859136529799528e-05\n",
      "\tFor composite Simpson's: area =  2.746710716991745 n =  32 error: 9.859136529799528e-05\n"
     ]
    }
   ],
   "source": [
    "areaScipy, absError = integrate.quad(f, a, b, epsabs=1e-6, epsrel=1e-6)\n",
    "print(\"\\nScipy calculation:\", areaScipy, \"Scipy error\", absError)\n",
    "\n",
    "for i in range(1, 2000):\n",
    "\n",
    "    areaCT,_,_ = eval_composite_trap(i, a, b, f)\n",
    "\n",
    "    if abs(areaScipy - areaCT) < 1e-6:\n",
    "        print(\"\\tFor composite trapezoidal: area = \",areaCT , \" n = \", i, \"error:\", abs(areaScipy - areaCT))\n",
    "        break\n",
    "\n",
    "for i in range(1, 2000):\n",
    "\n",
    "    areaCS,_,_ = eval_composite_simpsons(2*i, a, b, f)\n",
    "\n",
    "    if abs(areaScipy - areaCS) < 1e-6:\n",
    "        print(\"\\tFor composite Simpson's: area = \", areaCS,\"n = \", 2*i, \"error:\", abs(areaScipy - areaCT))\n",
    "        break\n",
    "\n",
    "areaScipy, absError = integrate.quad(f, a, b, epsrel=1e-4, epsabs=1e-4)\n",
    "print(\"\\nScipy calculation:\", areaScipy, \"Scipy error\", absError)\n",
    "\n",
    "for i in range(1, 2000):\n",
    "\n",
    "    areaCT,_,_ = eval_composite_trap(i, a, b, f)\n",
    "\n",
    "    if abs(areaScipy - areaCT) < 1e-4:\n",
    "        print(\"\\tFor composite trapezoidal: area\", areaCT, \"n = \", i, \"error:\", abs(areaScipy - areaCT))\n",
    "        break\n",
    "\n",
    "for its in range(1, 2000):\n",
    "\n",
    "    areaCS,_,_ = eval_composite_simpsons(2*its, a, b, f)\n",
    "\n",
    "    if abs(areaScipy - areaCS) < 1e-4:\n",
    "        print(\"\\tFor composite Simpson's: area = \", areaCS, \"n = \", 2*its, \"error:\", abs(areaScipy - areaCT))\n",
    "        break"
   ]
  },
  {
   "cell_type": "code",
   "execution_count": null,
   "metadata": {},
   "outputs": [],
   "source": []
  }
 ],
 "metadata": {
  "kernelspec": {
   "display_name": "Python 3",
   "language": "python",
   "name": "python3"
  },
  "language_info": {
   "codemirror_mode": {
    "name": "ipython",
    "version": 3
   },
   "file_extension": ".py",
   "mimetype": "text/x-python",
   "name": "python",
   "nbconvert_exporter": "python",
   "pygments_lexer": "ipython3",
   "version": "3.12.3"
  }
 },
 "nbformat": 4,
 "nbformat_minor": 4
}
