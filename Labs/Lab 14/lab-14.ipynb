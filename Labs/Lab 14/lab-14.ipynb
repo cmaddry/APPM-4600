{
 "cells": [
  {
   "cell_type": "code",
   "execution_count": null,
   "metadata": {},
   "outputs": [],
   "source": [
    "import matplotlib.pyplot as plt\n",
    "import numpy as np\n",
    "import numpy.linalg as la\n",
    "import scipy.linalg as scila\n",
    "from timeit import default_timer as timer"
   ]
  },
  {
   "cell_type": "code",
   "execution_count": 5,
   "metadata": {},
   "outputs": [],
   "source": [
    "def create_rect(N,M):\n",
    "    ''' this subroutine creates an ill-conditioned rectangular matrix'''\n",
    "    a = np.linspace(1,10,M)\n",
    "    d = 10**(-a)\n",
    "\n",
    "    D2 = np.zeros((N,M))\n",
    "    for j in range(0,M):\n",
    "        D2[j,j] = d[j]\n",
    "\n",
    "    '''' create matrices needed to manufacture the low rank matrix'''\n",
    "    A = np.random.rand(N,N)\n",
    "    Q1, R = la.qr(A)\n",
    "    test = np.matmul(Q1,R)\n",
    "    A =    np.random.rand(M,M)\n",
    "    Q2,R = la.qr(A)\n",
    "    test = np.matmul(Q2,R)\n",
    "\n",
    "    B = np.matmul(Q1,D2)\n",
    "    B = np.matmul(B,Q2)\n",
    "    return B \n",
    "\n",
    "def solve(A):\n",
    "   P, L, U = scila.lu(A)   \n",
    "   return P, L, U\n"
   ]
  },
  {
   "cell_type": "code",
   "execution_count": 21,
   "metadata": {},
   "outputs": [
    {
     "name": "stdout",
     "output_type": "stream",
     "text": [
      "5.027527011330175e-14\n"
     ]
    }
   ],
   "source": [
    "## create  matrix for testing different ways of solving a square linear system \n",
    "# N = size of system\n",
    "N = 100\n",
    "\n",
    "# Right hand side\n",
    "b = np.random.rand(N,1)\n",
    "A = np.random.rand(N,N)\n",
    "\n",
    "x = scila.solve(A,b)\n",
    "\n",
    "test = np.matmul(A,x)\n",
    "r = la.norm(test-b)\n",
    "\n",
    "print(r)\n",
    "\n",
    "# Create an ill-conditioned rectangular matrix\n",
    "# N = 10\n",
    "# M = 5\n",
    "# A = create_rect(N,M)     \n",
    "# b = np.random.rand(N,1)\n",
    "\n"
   ]
  },
  {
   "cell_type": "code",
   "execution_count": 32,
   "metadata": {},
   "outputs": [
    {
     "name": "stdout",
     "output_type": "stream",
     "text": [
      "For N = 100\n",
      "\tRegular Solve technique\n",
      "\t\t r = 4.058610704874007\n",
      "\t\t solve time: 0.14034809987060726\n",
      "\tLU technique\n",
      "\t\t r = 2.563804019053865e-14\n",
      "\t\t decomp time: 0.13905600016005337\n",
      "\t\t solve time: 0.00020159990526735783\n",
      "For N = 500\n",
      "\tRegular Solve technique\n",
      "\t\t r = 4.018568086035205\n",
      "\t\t solve time: 0.07827409985475242\n",
      "\tLU technique\n",
      "\t\t r = 5.5398682727622416e-14\n",
      "\t\t decomp time: 0.05930130020715296\n",
      "\t\t solve time: 0.00015279999934136868\n",
      "For N = 1000\n",
      "\tRegular Solve technique\n",
      "\t\t r = 4.583507425649256\n",
      "\t\t solve time: 0.025609900010749698\n",
      "\tLU technique\n",
      "\t\t r = 3.1235222617609777e-14\n",
      "\t\t decomp time: 0.0049749999307096004\n",
      "\t\t solve time: 6.949994713068008e-05\n",
      "For N = 2000\n",
      "\tRegular Solve technique\n",
      "\t\t r = 4.518646336505996\n",
      "\t\t solve time: 0.003455699887126684\n",
      "\tLU technique\n",
      "\t\t r = 4.396062618376201e-14\n",
      "\t\t decomp time: 0.0009969000238925219\n",
      "\t\t solve time: 3.609992563724518e-05\n",
      "For N = 4000\n",
      "\tRegular Solve technique\n",
      "\t\t r = 4.249870094961597\n",
      "\t\t solve time: 0.0011681001633405685\n",
      "\tLU technique\n",
      "\t\t r = 1.7225213985907978e-14\n",
      "\t\t decomp time: 0.0011831000447273254\n",
      "\t\t solve time: 4.930002614855766e-05\n",
      "For N = 5000\n",
      "\tRegular Solve technique\n",
      "\t\t r = 3.8578646225057303\n",
      "\t\t solve time: 0.001004599966108799\n",
      "\tLU technique\n",
      "\t\t r = 2.813906195422915e-14\n",
      "\t\t decomp time: 0.0020541998092085123\n",
      "\t\t solve time: 5.4900068789720535e-05\n"
     ]
    }
   ],
   "source": [
    "for i in [100, 500, 1000, 2000, 4000, 5000]:\n",
    "    # Right hand side\n",
    "    b = np.random.rand(N,1)\n",
    "    A = np.random.rand(N,N)\n",
    "\n",
    "    startReg = timer()\n",
    "    x_old = scila.solve(A,b)\n",
    "    stopReg = timer()\n",
    "\n",
    "    test_old = np.matmul(A,x)\n",
    "    r_old = la.norm(test-b)\n",
    "\n",
    "\n",
    "    startLU = timer()\n",
    "    lu, piv = scila.lu_factor(A)\n",
    "    stopLU = timer()\n",
    "\n",
    "    x = scila.lu_solve((lu, piv), b)\n",
    "    stopSolve = timer()\n",
    "\n",
    "\n",
    "    test = np.matmul(A,x)\n",
    "    r = la.norm(test-b)\n",
    "\n",
    "    print(\"For N =\", i)\n",
    "    \n",
    "    print(\"\\tRegular Solve technique\")\n",
    "    print(\"\\t\\t r =\", r_old)\n",
    "    print(\"\\t\\t solve time:\", stopReg - startReg)\n",
    "\n",
    "    print(\"\\tLU technique\")\n",
    "    print(\"\\t\\t r =\", r)\n",
    "    print(\"\\t\\t decomp time:\", stopLU - startLU)\n",
    "    print(\"\\t\\t solve time:\", stopSolve - stopLU)\n"
   ]
  },
  {
   "cell_type": "code",
   "execution_count": null,
   "metadata": {},
   "outputs": [],
   "source": []
  }
 ],
 "metadata": {
  "kernelspec": {
   "display_name": "Python 3",
   "language": "python",
   "name": "python3"
  },
  "language_info": {
   "codemirror_mode": {
    "name": "ipython",
    "version": 3
   },
   "file_extension": ".py",
   "mimetype": "text/x-python",
   "name": "python",
   "nbconvert_exporter": "python",
   "pygments_lexer": "ipython3",
   "version": "3.12.3"
  }
 },
 "nbformat": 4,
 "nbformat_minor": 2
}
