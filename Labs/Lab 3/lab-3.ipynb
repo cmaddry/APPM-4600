{
 "cells": [
  {
   "cell_type": "code",
   "execution_count": 1,
   "metadata": {},
   "outputs": [],
   "source": [
    "# import libraries\n",
    "import numpy as np"
   ]
  },
  {
   "cell_type": "code",
   "execution_count": 2,
   "metadata": {},
   "outputs": [
    {
     "name": "stdout",
     "output_type": "stream",
     "text": [
      "the approximate root is 1.3787966668605804\n",
      "the error message reads: 0\n",
      "f(astar) = -2.230099225286608e-07\n"
     ]
    }
   ],
   "source": [
    "def driver():\n",
    "\n",
    "# use routines    \n",
    "    f = lambda x: x**3+x-4\n",
    "    a = 1\n",
    "    b = 4\n",
    "\n",
    "#    f = lambda x: np.sin(x)\n",
    "#    a = 0.1\n",
    "#    b = np.pi+0.1\n",
    "\n",
    "    tol = 1e-7\n",
    "\n",
    "    [astar,ier] = bisection(f,a,b,tol)\n",
    "    print('the approximate root is',astar)\n",
    "    print('the error message reads:',ier)\n",
    "    print('f(astar) =', f(astar))\n",
    "\n",
    "# define routines\n",
    "def bisection(f,a,b,tol):\n",
    "    \n",
    "#    Inputs:\n",
    "#     f,a,b       - function and endpoints of initial interval\n",
    "#      tol  - bisection stops when interval length < tol\n",
    "\n",
    "#    Returns:\n",
    "#      astar - approximation of root\n",
    "#      ier   - error message\n",
    "#            - ier = 1 => Failed\n",
    "#            - ier = 0 == success\n",
    "\n",
    "#     first verify there is a root we can find in the interval \n",
    "\n",
    "    fa = f(a)\n",
    "    fb = f(b);\n",
    "    if (fa*fb>0):\n",
    "       ier = 1\n",
    "       astar = a\n",
    "       return [astar, ier]\n",
    "\n",
    "#   verify end points are not a root \n",
    "    if (fa == 0):\n",
    "      astar = a\n",
    "      ier =0\n",
    "      return [astar, ier]\n",
    "\n",
    "    if (fb ==0):\n",
    "      astar = b\n",
    "      ier = 0\n",
    "      return [astar, ier]\n",
    "\n",
    "    count = 0\n",
    "    d = 0.5*(a+b)\n",
    "    while (abs(d-a)> tol):\n",
    "      fd = f(d)\n",
    "      if (fd ==0):\n",
    "        astar = d\n",
    "        ier = 0\n",
    "        return [astar, ier]\n",
    "      if (fa*fd<0):\n",
    "         b = d\n",
    "      else: \n",
    "        a = d\n",
    "        fa = fd\n",
    "      d = 0.5*(a+b)\n",
    "      count = count +1\n",
    "#      print('abs(d-a) = ', abs(d-a))\n",
    "      \n",
    "    astar = d\n",
    "    ier = 0\n",
    "    return [astar, ier]\n",
    "      \n",
    "driver()               "
   ]
  },
  {
   "cell_type": "code",
   "execution_count": 3,
   "metadata": {},
   "outputs": [
    {
     "name": "stdout",
     "output_type": "stream",
     "text": [
      "the approximate fixed point is: 1.49870112602244\n",
      "f1(xstar): 1.4987011332478908\n",
      "Error message reads: 0\n",
      "the approximate fixed point is: 4.683823131060242\n",
      "f2(xstar): 1.0008159522600826\n",
      "Error message reads: 1\n"
     ]
    }
   ],
   "source": [
    "def driver():\n",
    "\n",
    "# test functions \n",
    "     f1 = lambda x: 1+0.5*np.sin(x)\n",
    "# fixed point is alpha1 = 1.4987....\n",
    "\n",
    "     f2 = lambda x: 3+2*np.sin(x)\n",
    "#fixed point is alpha2 = 3.09... \n",
    "\n",
    "     Nmax = 100\n",
    "     tol = 1e-6\n",
    "\n",
    "# test f1 '''\n",
    "     x0 = 0.0\n",
    "     [xstar,ier] = fixedpt(f1,x0,tol,Nmax)\n",
    "     print('the approximate fixed point is:',xstar)\n",
    "     print('f1(xstar):',f1(xstar))\n",
    "     print('Error message reads:',ier)\n",
    "    \n",
    "#test f2 '''\n",
    "     x0 = 0.0\n",
    "     [xstar,ier] = fixedpt(f2,x0,tol,Nmax)\n",
    "     print('the approximate fixed point is:',xstar)\n",
    "     print('f2(xstar):',f2(xstar))\n",
    "     print('Error message reads:',ier)\n",
    "\n",
    "# define routines\n",
    "def fixedpt(f,x0,tol,Nmax):\n",
    "\n",
    "    ''' x0 = initial guess''' \n",
    "    ''' Nmax = max number of iterations'''\n",
    "    ''' tol = stopping tolerance'''\n",
    "\n",
    "    count = 0\n",
    "    while (count <Nmax):\n",
    "       count = count +1\n",
    "       x1 = f(x0)\n",
    "       if (abs(x1-x0) <tol):\n",
    "          xstar = x1\n",
    "          ier = 0\n",
    "          return [xstar,ier]\n",
    "       x0 = x1\n",
    "\n",
    "    xstar = x1\n",
    "    ier = 1\n",
    "    return [xstar, ier]\n",
    "    \n",
    "\n",
    "driver()"
   ]
  },
  {
   "cell_type": "code",
   "execution_count": 8,
   "metadata": {},
   "outputs": [
    {
     "name": "stdout",
     "output_type": "stream",
     "text": [
      "[0.9999980926513672, 0]\n",
      "[-1, 1]\n",
      "[0.9999980926513672, 0]\n"
     ]
    }
   ],
   "source": [
    "## Lab 3 actual stuff\n",
    "# Question 1\n",
    "def f(x):\n",
    "   return x**2*(x-1) \n",
    "\n",
    "tol = 10**-5\n",
    "# a\n",
    "print(bisection(f, 0.5, 2, tol))\n",
    "\n",
    "# b \n",
    "print(bisection(f, -1, 0.5, tol))\n",
    "\n",
    "# c\n",
    "print(bisection(f, -1, 2, tol))"
   ]
  },
  {
   "cell_type": "code",
   "execution_count": 13,
   "metadata": {},
   "outputs": [
    {
     "name": "stdout",
     "output_type": "stream",
     "text": [
      "Problem a:  [1.0000030517578122, 0]\n",
      "Problem b:  [0, 1]\n",
      "Problem c with a = 0, b = 0.1:  [0, 0]\n",
      "Problem c with a = 0.5, b = 3pi/4:  [0.5, 1]\n"
     ]
    }
   ],
   "source": [
    "# Question 2\n",
    "# a \n",
    "def f(x):\n",
    "   return (x-1)*(x-3)*(x-5)\n",
    "\n",
    "a = 0\n",
    "b = 2.4\n",
    "print('Problem a: ', bisection(f, a, b, tol))\n",
    "\n",
    "# b\n",
    "def f(x):\n",
    "   return (x-1)**2*(x-3)\n",
    "\n",
    "a = 0\n",
    "b = 2\n",
    "print('Problem b: ', bisection(f, a, b, tol))\n",
    "\n",
    "# c\n",
    "def f(x):\n",
    "   return np.sin(x)\n",
    "a = 0\n",
    "b = 0.1\n",
    "print('Problem c with a = 0, b = 0.1: ', bisection(f, a, b, tol))\n",
    "\n",
    "a = 0.5\n",
    "b = 3*np.pi/4\n",
    "print('Problem c with a = 0.5, b = 3pi/4: ', bisection(f, a, b, tol))"
   ]
  },
  {
   "cell_type": "code",
   "execution_count": 46,
   "metadata": {},
   "outputs": [
    {
     "name": "stdout",
     "output_type": "stream",
     "text": [
      "a:  [-3.383854504272184e+253, 1]\n",
      "b:  [37884356.71143231, 1]\n",
      "c:  [1.5834748298961614, 1]\n",
      "d:  [1.4987496607981932, 1]\n"
     ]
    }
   ],
   "source": [
    "x_0 = 1\n",
    "tol = 10**-10\n",
    "nmax = 3\n",
    "\n",
    "\n",
    "# a\n",
    "def f(x):\n",
    "   return x*(1 + (7 - x**5)/x**2)**3\n",
    "\n",
    "print('a: ', fixedpt(f, x_0, tol, nmax))\n",
    "# Fails when nmax > 3\n",
    "\n",
    "# b\n",
    "def f(x):\n",
    "   return x - (x**5 - 7)/x**2\n",
    "\n",
    "print('b: ', fixedpt(f, x_0, tol, nmax))\n",
    "# Fails when nmax > 5\n",
    "\n",
    "\n",
    "# c\n",
    "def f(x):\n",
    "   return x - (x**5 - 7)/(5*x**4)\n",
    "\n",
    "print('c: ', fixedpt(f, x_0, tol, nmax))\n",
    "\n",
    "\n",
    "# d\n",
    "def f(x):\n",
    "   return x - (x**5 - 7)/12\n",
    "\n",
    "print('d: ', fixedpt(f, x_0, tol, nmax))\n"
   ]
  },
  {
   "cell_type": "code",
   "execution_count": null,
   "metadata": {},
   "outputs": [],
   "source": []
  }
 ],
 "metadata": {
  "kernelspec": {
   "display_name": "Python 3",
   "language": "python",
   "name": "python3"
  },
  "language_info": {
   "codemirror_mode": {
    "name": "ipython",
    "version": 3
   },
   "file_extension": ".py",
   "mimetype": "text/x-python",
   "name": "python",
   "nbconvert_exporter": "python",
   "pygments_lexer": "ipython3",
   "version": "3.12.3"
  }
 },
 "nbformat": 4,
 "nbformat_minor": 2
}
