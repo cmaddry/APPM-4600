{
 "cells": [
  {
   "cell_type": "code",
   "execution_count": 1,
   "metadata": {},
   "outputs": [],
   "source": [
    "import numpy as np\n",
    "import matplotlib.pyplot as plt"
   ]
  },
  {
   "cell_type": "markdown",
   "metadata": {},
   "source": [
    "#### Pre-Lab"
   ]
  },
  {
   "cell_type": "code",
   "execution_count": 19,
   "metadata": {},
   "outputs": [
    {
     "name": "stdout",
     "output_type": "stream",
     "text": [
      "Values of f' approximation\n",
      "[-0.99998333 -0.99999583 -0.99999896 -0.99999974 -0.99999993 -0.99999998\n",
      " -1.         -1.         -1.         -1.        ]\n"
     ]
    }
   ],
   "source": [
    "def f(x):\n",
    "    return np.cos(x)\n",
    "h = 0.01*2.**(-np.arange(0, 10))\n",
    "\n",
    "\n",
    "s = np.pi/2;\n",
    "\n",
    "approx = (f(s + h) - f(s))/h\n",
    "print(\"Values of f' approximation\")\n",
    "print(approx)"
   ]
  },
  {
   "cell_type": "code",
   "execution_count": null,
   "metadata": {},
   "outputs": [],
   "source": []
  },
  {
   "cell_type": "code",
   "execution_count": null,
   "metadata": {},
   "outputs": [],
   "source": []
  }
 ],
 "metadata": {
  "kernelspec": {
   "display_name": "Python 3",
   "language": "python",
   "name": "python3"
  },
  "language_info": {
   "codemirror_mode": {
    "name": "ipython",
    "version": 3
   },
   "file_extension": ".py",
   "mimetype": "text/x-python",
   "name": "python",
   "nbconvert_exporter": "python",
   "pygments_lexer": "ipython3",
   "version": "3.12.3"
  }
 },
 "nbformat": 4,
 "nbformat_minor": 2
}
