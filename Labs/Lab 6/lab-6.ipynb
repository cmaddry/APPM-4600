{
 "cells": [
  {
   "cell_type": "code",
   "execution_count": 32,
   "metadata": {},
   "outputs": [],
   "source": [
    "import numpy as np\n",
    "import matplotlib.pyplot as plt\n",
    "import pandoc\n",
    "import math\n",
    "import time \n",
    "from numpy.linalg import inv \n",
    "from numpy.linalg import norm "
   ]
  },
  {
   "cell_type": "markdown",
   "metadata": {},
   "source": [
    "#### Pre-Lab"
   ]
  },
  {
   "cell_type": "code",
   "execution_count": 33,
   "metadata": {},
   "outputs": [
    {
     "name": "stdout",
     "output_type": "stream",
     "text": [
      "Values of f' approximation\n",
      "[-0.99998333 -0.99999583 -0.99999896 -0.99999974 -0.99999993 -0.99999998\n",
      " -1.         -1.         -1.         -1.        ]\n"
     ]
    }
   ],
   "source": [
    "def f(x):\n",
    "    return np.cos(x)\n",
    "h = 0.01*2.**(-np.arange(0, 10))\n",
    "\n",
    "\n",
    "s = np.pi/2;\n",
    "\n",
    "approx = (f(s + h) - f(s))/h\n",
    "print(\"Values of f' approximation\")\n",
    "print(approx)"
   ]
  },
  {
   "cell_type": "markdown",
   "metadata": {},
   "source": [
    "### 3. Build Slacker Newton"
   ]
  },
  {
   "cell_type": "code",
   "execution_count": 54,
   "metadata": {},
   "outputs": [
    {
     "data": {
      "text/plain": [
       "[array([ 0.99860694, -0.10553049]), 0, 7]"
      ]
     },
     "execution_count": 54,
     "metadata": {},
     "output_type": "execute_result"
    }
   ],
   "source": [
    "def f1(x1, x2):\n",
    "    return 4*x1**2 + x2**2 - 4\n",
    "\n",
    "def f2(x1, x2):\n",
    "    return x1 + x2 - np.sin(x1 - x2)\n",
    "\n",
    "# def evalF(x): \n",
    "\n",
    "#     F = np.zeros(3)\n",
    "    \n",
    "#     F[0] = 3*x[0]-math.cos(x[1]*x[2])-1/2\n",
    "#     F[1] = x[0]-81*(x[1]+0.1)**2+math.sin(x[2])+1.06\n",
    "#     F[2] = np.exp(-x[0]*x[1])+20*x[2]+(10*math.pi-3)/3\n",
    "#     return F\n",
    "def evalF(x): \n",
    "\n",
    "    F = np.zeros(2)\n",
    "    \n",
    "    F[0] = 4*x[0]**2 + x[1]**2 - 4\n",
    "    F[1] = x[0] + x[1] - np.sin(x[0] - x[1])\n",
    "    return F\n",
    "def evalJ(x): \n",
    "\n",
    "    \n",
    "    J = np.array([[8.0*x[0], 8*x[1]], \n",
    "        [1 - np.cos(x[0] - x[1]), 1 + np.cos(x[0] - x[1])]])\n",
    "    return J\n",
    "\n",
    "def LazyNewton(x0,tol,Nmax):\n",
    "\n",
    "    ''' Lazy Newton = use only the inverse of the Jacobian for initial guess'''\n",
    "    ''' inputs: x0 = initial guess, tol = tolerance, Nmax = max its'''\n",
    "    ''' Outputs: xstar= approx root, ier = error message, its = num its'''\n",
    "\n",
    "    J = evalJ(x0)\n",
    "    Jinv = inv(J)\n",
    "\n",
    "    for its in range(Nmax):\n",
    "\n",
    "       if(np.mod(its, 3) == 1):\n",
    "          J = evalJ(x0) \n",
    "          Jinv = inv(J)           \n",
    "    \n",
    "       F = evalF(x0)\n",
    "       x1 = x0 - Jinv.dot(F)\n",
    "       \n",
    "       if (norm(x1-x0) < tol):\n",
    "           xstar = x1\n",
    "           ier =0\n",
    "           return[xstar, ier,its]\n",
    "        \n",
    "       x0 = x1\n",
    "    \n",
    "    xstar = x1\n",
    "    ier = 1\n",
    "    return[xstar,ier,its]  \n",
    "# Apply function \n",
    "\n",
    "\n",
    "x0 = np.array([1, 0]);\n",
    "tol = 1e-10\n",
    "\n",
    "LazyNewton(x0, tol, 10000)"
   ]
  },
  {
   "cell_type": "markdown",
   "metadata": {},
   "source": [
    "My Slacker Newton performs slightly worse than my 2 lab partners. Their's coverged in 5 and 4 iterations. Mine took 7."
   ]
  },
  {
   "cell_type": "markdown",
   "metadata": {},
   "source": [
    "It did perform well, since it converges much faster than normal Newton does."
   ]
  },
  {
   "cell_type": "markdown",
   "metadata": {},
   "source": []
  }
 ],
 "metadata": {
  "kernelspec": {
   "display_name": "Python 3 (ipykernel)",
   "language": "python",
   "name": "python3"
  },
  "language_info": {
   "codemirror_mode": {
    "name": "ipython",
    "version": 3
   },
   "file_extension": ".py",
   "mimetype": "text/x-python",
   "name": "python",
   "nbconvert_exporter": "python",
   "pygments_lexer": "ipython3",
   "version": "3.12.3"
  }
 },
 "nbformat": 4,
 "nbformat_minor": 4
}
