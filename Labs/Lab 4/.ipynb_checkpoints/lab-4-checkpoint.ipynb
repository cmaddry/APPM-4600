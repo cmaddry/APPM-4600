{
 "cells": [
  {
   "cell_type": "code",
   "execution_count": 1,
   "metadata": {},
   "outputs": [],
   "source": [
    "import numpy as np"
   ]
  },
  {
   "cell_type": "code",
   "execution_count": 9,
   "metadata": {},
   "outputs": [],
   "source": [
    "# define routines\n",
    "def fixedpt(f,x0,tol,Nmax):\n",
    "\n",
    "    ''' x0 = initial guess''' \n",
    "    ''' Nmax = max number of iterations'''\n",
    "    ''' tol = stopping tolerance'''\n",
    "\n",
    "    returnx = np.array([0])\n",
    "\n",
    "    count = 0\n",
    "    while (count <Nmax):\n",
    "       count = count +1\n",
    "       x1 = f(x0)\n",
    "       if (abs(x1-x0) <tol):\n",
    "          xstar = x1\n",
    "          ier = 0\n",
    "          return [xstar,ier,count, returnx]\n",
    "       x0 = x1\n",
    "       returnx = np.append(returnx, x0)\n",
    "\n",
    "    xstar = x1\n",
    "    ier = 1\n",
    "    return [xstar, ier, count, returnx]"
   ]
  },
  {
   "cell_type": "code",
   "execution_count": 16,
   "metadata": {},
   "outputs": [],
   "source": [
    "def compute_order(x, xstar):\n",
    "    diff1 = np.abs(x[1::] - xstar)\n",
    "\n",
    "    diff2 = np.abs(x[0:-1] - xstar)\n",
    "\n",
    "    fit = np.polyfit(np.log(diff2.flatten()), np.log(diff1.flatten()), 1)\n",
    "\n",
    "    print('the order equation is')\n",
    "    print('log(|p{n+1}-p|) = log(lambda) + alpha*log(|p_n - p|) where')\n",
    "    print('lambda = ', str(np.exp(fit[1])))\n",
    "    print('alpha = ', str(fit[0]))\n",
    "\n",
    "    return[fit, diff1, diff2]\n",
    "\n"
   ]
  },
  {
   "cell_type": "code",
   "execution_count": 30,
   "metadata": {},
   "outputs": [
    {
     "name": "stdout",
     "output_type": "stream",
     "text": [
      "the number of iterations is:  11\n",
      "xstar is:  1.3652300133953523\n",
      "\n",
      "the order equation is\n",
      "log(|p{n+1}-p|) = log(lambda) + alpha*log(|p_n - p|) where\n",
      "lambda =  0.04728868924913745\n",
      "alpha =  0.9305605548277758\n"
     ]
    }
   ],
   "source": [
    "def f(x):\n",
    "    return np.sqrt(10/(x + 4))\n",
    "\n",
    "x_0 = 1.5\n",
    "tol = 10e-10\n",
    "Nmax = 100\n",
    "\n",
    "[xstar, return2, count, returnx] = fixedpt(f,x_0,tol,Nmax)\n",
    "\n",
    "print('the number of iterations is: ', count)\n",
    "print('xstar is: ', xstar )\n",
    "print('')\n",
    "\n",
    "compute_order(returnx, xstar);"
   ]
  },
  {
   "cell_type": "markdown",
   "metadata": {},
   "source": []
  },
  {
   "cell_type": "code",
   "execution_count": 31,
   "metadata": {},
   "outputs": [],
   "source": [
    "def subroutine(sequence, tol, nMax):\n",
    "    N = nMax\n",
    "    \n",
    "    vector = np.zeros([N,1])\n",
    "    return vector"
   ]
  },
  {
   "cell_type": "code",
   "execution_count": null,
   "metadata": {},
   "outputs": [],
   "source": []
  }
 ],
 "metadata": {
  "kernelspec": {
   "display_name": "Python 3",
   "language": "python",
   "name": "python3"
  },
  "language_info": {
   "codemirror_mode": {
    "name": "ipython",
    "version": 3
   },
   "file_extension": ".py",
   "mimetype": "text/x-python",
   "name": "python",
   "nbconvert_exporter": "python",
   "pygments_lexer": "ipython3",
   "version": "3.12.3"
  }
 },
 "nbformat": 4,
 "nbformat_minor": 2
}
